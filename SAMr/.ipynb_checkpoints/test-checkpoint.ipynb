{
 "metadata": {
  "name": "",
  "signature": "sha256:a54f5ce1aaf44954b9389ccd23c80433dd2fc9a1c53ec754240ec828537e9585"
 },
 "nbformat": 3,
 "nbformat_minor": 0,
 "worksheets": []
}