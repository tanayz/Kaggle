{
 "metadata": {
  "name": "",
  "signature": "sha256:95e1f0912fe2afdd85fcccb8e62d797d24be4d8bced8ddad6e7e7bca4639964a"
 },
 "nbformat": 3,
 "nbformat_minor": 0,
 "worksheets": [
  {
   "cells": [
    {
     "cell_type": "code",
     "collapsed": false,
     "input": [
      "import numpy as np\n",
      "import csv\n",
      "import sys\n"
     ],
     "language": "python",
     "metadata": {},
     "outputs": []
    }
   ],
   "metadata": {}
  }
 ]
}